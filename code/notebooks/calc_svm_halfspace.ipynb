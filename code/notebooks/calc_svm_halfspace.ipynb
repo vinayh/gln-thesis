{
 "metadata": {
  "language_info": {
   "codemirror_mode": {
    "name": "ipython",
    "version": 3
   },
   "file_extension": ".py",
   "mimetype": "text/x-python",
   "name": "python",
   "nbconvert_exporter": "python",
   "pygments_lexer": "ipython3",
   "version": 3
  },
  "orig_nbformat": 2
 },
 "nbformat": 4,
 "nbformat_minor": 2,
 "cells": [
  {
   "cell_type": "code",
   "execution_count": null,
   "metadata": {},
   "outputs": [],
   "source": [
    "import torch\n",
    "from sklearn.svm import SVC, LinearSVC\n",
    "from torchvision.datasets import MNIST\n",
    "from torchvision.transforms import transforms\n",
    "from torch.utils.data import DataLoader"
   ]
  },
  {
   "cell_type": "code",
   "execution_count": null,
   "metadata": {},
   "outputs": [],
   "source": [
    "data_dir = \"data/\"\n",
    "MNIST(data_dir, train=True, download=True)\n",
    "MNIST(data_dir, train=False, download=True)"
   ]
  },
  {
   "cell_type": "code",
   "execution_count": null,
   "metadata": {},
   "outputs": [],
   "source": [
    "t = transforms.Compose([transforms.ToTensor(), transforms.Normalize((0.1307,), (0.3081,))]\n",
    "\n",
    "trainset = MNIST(data_dir, train=True, transform=t)\n",
    "testset = MNIST(data_dir, train=False, transform=t)\n",
    "\n",
    "loader = DataLoader(dataset=trainset, batch_size=len(trainset))\n",
    "X_train, y_train = next(iter(loader))\n",
    "X_train = X_train.flatten(start_dim=1)"
   ]
  },
  {
   "cell_type": "code",
   "execution_count": null,
   "metadata": {},
   "outputs": [],
   "source": [
    "svm = LinearSVC(dual=False)\n",
    "svm.fit(X, y)"
   ]
  }
 ]
}